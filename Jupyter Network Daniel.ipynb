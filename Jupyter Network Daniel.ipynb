{
 "cells": [
  {
   "cell_type": "markdown",
   "id": "b27ff2ac-cee2-4052-a03b-bf05f31716f4",
   "metadata": {
    "tags": []
   },
   "source": [
    "# My Jupyter Notebook on IBM Data Science Experience"
   ]
  },
  {
   "cell_type": "markdown",
   "id": "523b219f-7f7c-4ca1-a9c1-4801f79aeef4",
   "metadata": {},
   "source": [
    "*Daniel Ade Aryono*\n",
    "I'm currently an IT Project Manager!"
   ]
  },
  {
   "cell_type": "markdown",
   "id": "a690cf4f-7bae-4897-ae0c-93361f3247cd",
   "metadata": {},
   "source": [
    "I am interested in data science because I love to gain insight."
   ]
  },
  {
   "cell_type": "markdown",
   "id": "d51894c9-322b-4125-ba91-907a13b6f44c",
   "metadata": {},
   "source": [
    "### My code is supposed to run the fibonacci sequence"
   ]
  },
  {
   "cell_type": "code",
   "execution_count": 2,
   "id": "7bf6e812-f190-4014-83ae-ae4fe40af99f",
   "metadata": {},
   "outputs": [
    {
     "name": "stdout",
     "output_type": "stream",
     "text": [
      "1\n",
      "1\n",
      "2\n",
      "3\n",
      "5\n",
      "8\n",
      "13\n"
     ]
    }
   ],
   "source": [
    "i = 0\n",
    "j = 1\n",
    "n = int \n",
    "while(j<20):\n",
    "    print(j)\n",
    "    n = i\n",
    "    i = j\n",
    "    j = j + n"
   ]
  },
  {
   "cell_type": "code",
   "execution_count": null,
   "id": "17541c45-a999-46d8-89a6-d24625d90502",
   "metadata": {},
   "outputs": [],
   "source": []
  }
 ],
 "metadata": {
  "kernelspec": {
   "display_name": "Python",
   "language": "python",
   "name": "conda-env-python-py"
  },
  "language_info": {
   "codemirror_mode": {
    "name": "ipython",
    "version": 3
   },
   "file_extension": ".py",
   "mimetype": "text/x-python",
   "name": "python",
   "nbconvert_exporter": "python",
   "pygments_lexer": "ipython3",
   "version": "3.7.12"
  }
 },
 "nbformat": 4,
 "nbformat_minor": 5
}
